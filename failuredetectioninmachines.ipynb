{
 "cells": [
  {
   "cell_type": "code",
   "execution_count": 1,
   "id": "de41d642",
   "metadata": {
    "execution": {
     "iopub.execute_input": "2024-10-10T22:57:39.225462Z",
     "iopub.status.busy": "2024-10-10T22:57:39.224630Z",
     "iopub.status.idle": "2024-10-10T22:57:42.666320Z",
     "shell.execute_reply": "2024-10-10T22:57:42.665356Z"
    },
    "papermill": {
     "duration": 3.455647,
     "end_time": "2024-10-10T22:57:42.669886",
     "exception": false,
     "start_time": "2024-10-10T22:57:39.214239",
     "status": "completed"
    },
    "tags": []
   },
   "outputs": [],
   "source": [
    "import numpy as np\n",
    "import pandas as pd\n",
    "import matplotlib.pyplot as plt\n",
    "import seaborn as sns\n",
    "%matplotlib inline"
   ]
  },
  {
   "cell_type": "code",
   "execution_count": 2,
   "id": "cd2f7fe2",
   "metadata": {
    "execution": {
     "iopub.execute_input": "2024-10-10T22:57:42.690807Z",
     "iopub.status.busy": "2024-10-10T22:57:42.690176Z",
     "iopub.status.idle": "2024-10-10T22:57:42.748071Z",
     "shell.execute_reply": "2024-10-10T22:57:42.747267Z"
    },
    "papermill": {
     "duration": 0.069362,
     "end_time": "2024-10-10T22:57:42.750354",
     "exception": false,
     "start_time": "2024-10-10T22:57:42.680992",
     "status": "completed"
    },
    "tags": []
   },
   "outputs": [],
   "source": [
    "df = pd.read_csv(\"/kaggle/input/machine-predictive-maintenance-classification/predictive_maintenance.csv\")"
   ]
  },
  {
   "cell_type": "code",
   "execution_count": 3,
   "id": "9d468b7b",
   "metadata": {
    "execution": {
     "iopub.execute_input": "2024-10-10T22:57:42.767630Z",
     "iopub.status.busy": "2024-10-10T22:57:42.767281Z",
     "iopub.status.idle": "2024-10-10T22:57:42.796616Z",
     "shell.execute_reply": "2024-10-10T22:57:42.795749Z"
    },
    "papermill": {
     "duration": 0.040137,
     "end_time": "2024-10-10T22:57:42.798631",
     "exception": false,
     "start_time": "2024-10-10T22:57:42.758494",
     "status": "completed"
    },
    "tags": []
   },
   "outputs": [
    {
     "data": {
      "text/html": [
       "<div>\n",
       "<style scoped>\n",
       "    .dataframe tbody tr th:only-of-type {\n",
       "        vertical-align: middle;\n",
       "    }\n",
       "\n",
       "    .dataframe tbody tr th {\n",
       "        vertical-align: top;\n",
       "    }\n",
       "\n",
       "    .dataframe thead th {\n",
       "        text-align: right;\n",
       "    }\n",
       "</style>\n",
       "<table border=\"1\" class=\"dataframe\">\n",
       "  <thead>\n",
       "    <tr style=\"text-align: right;\">\n",
       "      <th></th>\n",
       "      <th>UDI</th>\n",
       "      <th>Product ID</th>\n",
       "      <th>Type</th>\n",
       "      <th>Air temperature [K]</th>\n",
       "      <th>Process temperature [K]</th>\n",
       "      <th>Rotational speed [rpm]</th>\n",
       "      <th>Torque [Nm]</th>\n",
       "      <th>Tool wear [min]</th>\n",
       "      <th>Target</th>\n",
       "      <th>Failure Type</th>\n",
       "    </tr>\n",
       "  </thead>\n",
       "  <tbody>\n",
       "    <tr>\n",
       "      <th>0</th>\n",
       "      <td>1</td>\n",
       "      <td>M14860</td>\n",
       "      <td>M</td>\n",
       "      <td>298.1</td>\n",
       "      <td>308.6</td>\n",
       "      <td>1551</td>\n",
       "      <td>42.8</td>\n",
       "      <td>0</td>\n",
       "      <td>0</td>\n",
       "      <td>No Failure</td>\n",
       "    </tr>\n",
       "    <tr>\n",
       "      <th>1</th>\n",
       "      <td>2</td>\n",
       "      <td>L47181</td>\n",
       "      <td>L</td>\n",
       "      <td>298.2</td>\n",
       "      <td>308.7</td>\n",
       "      <td>1408</td>\n",
       "      <td>46.3</td>\n",
       "      <td>3</td>\n",
       "      <td>0</td>\n",
       "      <td>No Failure</td>\n",
       "    </tr>\n",
       "    <tr>\n",
       "      <th>2</th>\n",
       "      <td>3</td>\n",
       "      <td>L47182</td>\n",
       "      <td>L</td>\n",
       "      <td>298.1</td>\n",
       "      <td>308.5</td>\n",
       "      <td>1498</td>\n",
       "      <td>49.4</td>\n",
       "      <td>5</td>\n",
       "      <td>0</td>\n",
       "      <td>No Failure</td>\n",
       "    </tr>\n",
       "    <tr>\n",
       "      <th>3</th>\n",
       "      <td>4</td>\n",
       "      <td>L47183</td>\n",
       "      <td>L</td>\n",
       "      <td>298.2</td>\n",
       "      <td>308.6</td>\n",
       "      <td>1433</td>\n",
       "      <td>39.5</td>\n",
       "      <td>7</td>\n",
       "      <td>0</td>\n",
       "      <td>No Failure</td>\n",
       "    </tr>\n",
       "    <tr>\n",
       "      <th>4</th>\n",
       "      <td>5</td>\n",
       "      <td>L47184</td>\n",
       "      <td>L</td>\n",
       "      <td>298.2</td>\n",
       "      <td>308.7</td>\n",
       "      <td>1408</td>\n",
       "      <td>40.0</td>\n",
       "      <td>9</td>\n",
       "      <td>0</td>\n",
       "      <td>No Failure</td>\n",
       "    </tr>\n",
       "  </tbody>\n",
       "</table>\n",
       "</div>"
      ],
      "text/plain": [
       "   UDI Product ID Type  Air temperature [K]  Process temperature [K]  \\\n",
       "0    1     M14860    M                298.1                    308.6   \n",
       "1    2     L47181    L                298.2                    308.7   \n",
       "2    3     L47182    L                298.1                    308.5   \n",
       "3    4     L47183    L                298.2                    308.6   \n",
       "4    5     L47184    L                298.2                    308.7   \n",
       "\n",
       "   Rotational speed [rpm]  Torque [Nm]  Tool wear [min]  Target Failure Type  \n",
       "0                    1551         42.8                0       0   No Failure  \n",
       "1                    1408         46.3                3       0   No Failure  \n",
       "2                    1498         49.4                5       0   No Failure  \n",
       "3                    1433         39.5                7       0   No Failure  \n",
       "4                    1408         40.0                9       0   No Failure  "
      ]
     },
     "execution_count": 3,
     "metadata": {},
     "output_type": "execute_result"
    }
   ],
   "source": [
    "df.head()"
   ]
  },
  {
   "cell_type": "code",
   "execution_count": 4,
   "id": "12b56e2d",
   "metadata": {
    "execution": {
     "iopub.execute_input": "2024-10-10T22:57:42.815620Z",
     "iopub.status.busy": "2024-10-10T22:57:42.815303Z",
     "iopub.status.idle": "2024-10-10T22:57:42.821125Z",
     "shell.execute_reply": "2024-10-10T22:57:42.820264Z"
    },
    "papermill": {
     "duration": 0.016422,
     "end_time": "2024-10-10T22:57:42.822963",
     "exception": false,
     "start_time": "2024-10-10T22:57:42.806541",
     "status": "completed"
    },
    "tags": []
   },
   "outputs": [
    {
     "data": {
      "text/plain": [
       "Index(['UDI', 'Product ID', 'Type', 'Air temperature [K]',\n",
       "       'Process temperature [K]', 'Rotational speed [rpm]', 'Torque [Nm]',\n",
       "       'Tool wear [min]', 'Target', 'Failure Type'],\n",
       "      dtype='object')"
      ]
     },
     "execution_count": 4,
     "metadata": {},
     "output_type": "execute_result"
    }
   ],
   "source": [
    "df.columns"
   ]
  },
  {
   "cell_type": "code",
   "execution_count": 5,
   "id": "346da125",
   "metadata": {
    "execution": {
     "iopub.execute_input": "2024-10-10T22:57:42.839842Z",
     "iopub.status.busy": "2024-10-10T22:57:42.839557Z",
     "iopub.status.idle": "2024-10-10T22:57:42.852997Z",
     "shell.execute_reply": "2024-10-10T22:57:42.852091Z"
    },
    "papermill": {
     "duration": 0.024345,
     "end_time": "2024-10-10T22:57:42.855227",
     "exception": false,
     "start_time": "2024-10-10T22:57:42.830882",
     "status": "completed"
    },
    "tags": []
   },
   "outputs": [
    {
     "data": {
      "text/html": [
       "<div>\n",
       "<style scoped>\n",
       "    .dataframe tbody tr th:only-of-type {\n",
       "        vertical-align: middle;\n",
       "    }\n",
       "\n",
       "    .dataframe tbody tr th {\n",
       "        vertical-align: top;\n",
       "    }\n",
       "\n",
       "    .dataframe thead th {\n",
       "        text-align: right;\n",
       "    }\n",
       "</style>\n",
       "<table border=\"1\" class=\"dataframe\">\n",
       "  <thead>\n",
       "    <tr style=\"text-align: right;\">\n",
       "      <th></th>\n",
       "      <th>UDI</th>\n",
       "      <th>Product ID</th>\n",
       "      <th>Type</th>\n",
       "      <th>Air temperature [K]</th>\n",
       "      <th>Process temperature [K]</th>\n",
       "      <th>Rotational speed [rpm]</th>\n",
       "      <th>Torque [Nm]</th>\n",
       "      <th>Tool wear [min]</th>\n",
       "      <th>Target</th>\n",
       "      <th>Failure Type</th>\n",
       "    </tr>\n",
       "  </thead>\n",
       "  <tbody>\n",
       "    <tr>\n",
       "      <th>0</th>\n",
       "      <td>1</td>\n",
       "      <td>M14860</td>\n",
       "      <td>M</td>\n",
       "      <td>298.1</td>\n",
       "      <td>308.6</td>\n",
       "      <td>1551</td>\n",
       "      <td>42.8</td>\n",
       "      <td>0</td>\n",
       "      <td>0</td>\n",
       "      <td>No Failure</td>\n",
       "    </tr>\n",
       "    <tr>\n",
       "      <th>1</th>\n",
       "      <td>2</td>\n",
       "      <td>L47181</td>\n",
       "      <td>L</td>\n",
       "      <td>298.2</td>\n",
       "      <td>308.7</td>\n",
       "      <td>1408</td>\n",
       "      <td>46.3</td>\n",
       "      <td>3</td>\n",
       "      <td>0</td>\n",
       "      <td>No Failure</td>\n",
       "    </tr>\n",
       "    <tr>\n",
       "      <th>2</th>\n",
       "      <td>3</td>\n",
       "      <td>L47182</td>\n",
       "      <td>L</td>\n",
       "      <td>298.1</td>\n",
       "      <td>308.5</td>\n",
       "      <td>1498</td>\n",
       "      <td>49.4</td>\n",
       "      <td>5</td>\n",
       "      <td>0</td>\n",
       "      <td>No Failure</td>\n",
       "    </tr>\n",
       "    <tr>\n",
       "      <th>3</th>\n",
       "      <td>4</td>\n",
       "      <td>L47183</td>\n",
       "      <td>L</td>\n",
       "      <td>298.2</td>\n",
       "      <td>308.6</td>\n",
       "      <td>1433</td>\n",
       "      <td>39.5</td>\n",
       "      <td>7</td>\n",
       "      <td>0</td>\n",
       "      <td>No Failure</td>\n",
       "    </tr>\n",
       "    <tr>\n",
       "      <th>4</th>\n",
       "      <td>5</td>\n",
       "      <td>L47184</td>\n",
       "      <td>L</td>\n",
       "      <td>298.2</td>\n",
       "      <td>308.7</td>\n",
       "      <td>1408</td>\n",
       "      <td>40.0</td>\n",
       "      <td>9</td>\n",
       "      <td>0</td>\n",
       "      <td>No Failure</td>\n",
       "    </tr>\n",
       "  </tbody>\n",
       "</table>\n",
       "</div>"
      ],
      "text/plain": [
       "   UDI Product ID Type  Air temperature [K]  Process temperature [K]  \\\n",
       "0    1     M14860    M                298.1                    308.6   \n",
       "1    2     L47181    L                298.2                    308.7   \n",
       "2    3     L47182    L                298.1                    308.5   \n",
       "3    4     L47183    L                298.2                    308.6   \n",
       "4    5     L47184    L                298.2                    308.7   \n",
       "\n",
       "   Rotational speed [rpm]  Torque [Nm]  Tool wear [min]  Target Failure Type  \n",
       "0                    1551         42.8                0       0   No Failure  \n",
       "1                    1408         46.3                3       0   No Failure  \n",
       "2                    1498         49.4                5       0   No Failure  \n",
       "3                    1433         39.5                7       0   No Failure  \n",
       "4                    1408         40.0                9       0   No Failure  "
      ]
     },
     "execution_count": 5,
     "metadata": {},
     "output_type": "execute_result"
    }
   ],
   "source": [
    "df1 = df\n",
    "df1.head()"
   ]
  },
  {
   "cell_type": "code",
   "execution_count": 6,
   "id": "aa8f682c",
   "metadata": {
    "execution": {
     "iopub.execute_input": "2024-10-10T22:57:42.873377Z",
     "iopub.status.busy": "2024-10-10T22:57:42.872699Z",
     "iopub.status.idle": "2024-10-10T22:57:42.877175Z",
     "shell.execute_reply": "2024-10-10T22:57:42.876392Z"
    },
    "papermill": {
     "duration": 0.015519,
     "end_time": "2024-10-10T22:57:42.879081",
     "exception": false,
     "start_time": "2024-10-10T22:57:42.863562",
     "status": "completed"
    },
    "tags": []
   },
   "outputs": [],
   "source": [
    "df1 = df1.rename(columns ={'Process Temperature [K]':'Machine Temperature [K]'},inplace  = True)"
   ]
  },
  {
   "cell_type": "code",
   "execution_count": 7,
   "id": "54200c88",
   "metadata": {
    "execution": {
     "iopub.execute_input": "2024-10-10T22:57:42.896555Z",
     "iopub.status.busy": "2024-10-10T22:57:42.896252Z",
     "iopub.status.idle": "2024-10-10T22:57:42.910301Z",
     "shell.execute_reply": "2024-10-10T22:57:42.909477Z"
    },
    "papermill": {
     "duration": 0.0249,
     "end_time": "2024-10-10T22:57:42.912120",
     "exception": false,
     "start_time": "2024-10-10T22:57:42.887220",
     "status": "completed"
    },
    "tags": []
   },
   "outputs": [
    {
     "data": {
      "text/html": [
       "<div>\n",
       "<style scoped>\n",
       "    .dataframe tbody tr th:only-of-type {\n",
       "        vertical-align: middle;\n",
       "    }\n",
       "\n",
       "    .dataframe tbody tr th {\n",
       "        vertical-align: top;\n",
       "    }\n",
       "\n",
       "    .dataframe thead th {\n",
       "        text-align: right;\n",
       "    }\n",
       "</style>\n",
       "<table border=\"1\" class=\"dataframe\">\n",
       "  <thead>\n",
       "    <tr style=\"text-align: right;\">\n",
       "      <th></th>\n",
       "      <th>UDI</th>\n",
       "      <th>Product ID</th>\n",
       "      <th>Type</th>\n",
       "      <th>Air temperature [K]</th>\n",
       "      <th>Process temperature [K]</th>\n",
       "      <th>Rotational speed [rpm]</th>\n",
       "      <th>Torque [Nm]</th>\n",
       "      <th>Tool wear [min]</th>\n",
       "      <th>Target</th>\n",
       "      <th>Failure Type</th>\n",
       "    </tr>\n",
       "  </thead>\n",
       "  <tbody>\n",
       "    <tr>\n",
       "      <th>0</th>\n",
       "      <td>1</td>\n",
       "      <td>M14860</td>\n",
       "      <td>M</td>\n",
       "      <td>298.1</td>\n",
       "      <td>308.6</td>\n",
       "      <td>1551</td>\n",
       "      <td>42.8</td>\n",
       "      <td>0</td>\n",
       "      <td>0</td>\n",
       "      <td>No Failure</td>\n",
       "    </tr>\n",
       "    <tr>\n",
       "      <th>1</th>\n",
       "      <td>2</td>\n",
       "      <td>L47181</td>\n",
       "      <td>L</td>\n",
       "      <td>298.2</td>\n",
       "      <td>308.7</td>\n",
       "      <td>1408</td>\n",
       "      <td>46.3</td>\n",
       "      <td>3</td>\n",
       "      <td>0</td>\n",
       "      <td>No Failure</td>\n",
       "    </tr>\n",
       "    <tr>\n",
       "      <th>2</th>\n",
       "      <td>3</td>\n",
       "      <td>L47182</td>\n",
       "      <td>L</td>\n",
       "      <td>298.1</td>\n",
       "      <td>308.5</td>\n",
       "      <td>1498</td>\n",
       "      <td>49.4</td>\n",
       "      <td>5</td>\n",
       "      <td>0</td>\n",
       "      <td>No Failure</td>\n",
       "    </tr>\n",
       "    <tr>\n",
       "      <th>3</th>\n",
       "      <td>4</td>\n",
       "      <td>L47183</td>\n",
       "      <td>L</td>\n",
       "      <td>298.2</td>\n",
       "      <td>308.6</td>\n",
       "      <td>1433</td>\n",
       "      <td>39.5</td>\n",
       "      <td>7</td>\n",
       "      <td>0</td>\n",
       "      <td>No Failure</td>\n",
       "    </tr>\n",
       "    <tr>\n",
       "      <th>4</th>\n",
       "      <td>5</td>\n",
       "      <td>L47184</td>\n",
       "      <td>L</td>\n",
       "      <td>298.2</td>\n",
       "      <td>308.7</td>\n",
       "      <td>1408</td>\n",
       "      <td>40.0</td>\n",
       "      <td>9</td>\n",
       "      <td>0</td>\n",
       "      <td>No Failure</td>\n",
       "    </tr>\n",
       "  </tbody>\n",
       "</table>\n",
       "</div>"
      ],
      "text/plain": [
       "   UDI Product ID Type  Air temperature [K]  Process temperature [K]  \\\n",
       "0    1     M14860    M                298.1                    308.6   \n",
       "1    2     L47181    L                298.2                    308.7   \n",
       "2    3     L47182    L                298.1                    308.5   \n",
       "3    4     L47183    L                298.2                    308.6   \n",
       "4    5     L47184    L                298.2                    308.7   \n",
       "\n",
       "   Rotational speed [rpm]  Torque [Nm]  Tool wear [min]  Target Failure Type  \n",
       "0                    1551         42.8                0       0   No Failure  \n",
       "1                    1408         46.3                3       0   No Failure  \n",
       "2                    1498         49.4                5       0   No Failure  \n",
       "3                    1433         39.5                7       0   No Failure  \n",
       "4                    1408         40.0                9       0   No Failure  "
      ]
     },
     "execution_count": 7,
     "metadata": {},
     "output_type": "execute_result"
    }
   ],
   "source": [
    "df.head()"
   ]
  },
  {
   "cell_type": "code",
   "execution_count": 8,
   "id": "db41c6de",
   "metadata": {
    "execution": {
     "iopub.execute_input": "2024-10-10T22:57:42.930590Z",
     "iopub.status.busy": "2024-10-10T22:57:42.929875Z",
     "iopub.status.idle": "2024-10-10T22:57:42.961198Z",
     "shell.execute_reply": "2024-10-10T22:57:42.959966Z"
    },
    "papermill": {
     "duration": 0.042722,
     "end_time": "2024-10-10T22:57:42.963233",
     "exception": false,
     "start_time": "2024-10-10T22:57:42.920511",
     "status": "completed"
    },
    "tags": []
   },
   "outputs": [
    {
     "name": "stdout",
     "output_type": "stream",
     "text": [
      "<class 'pandas.core.frame.DataFrame'>\n",
      "RangeIndex: 10000 entries, 0 to 9999\n",
      "Data columns (total 10 columns):\n",
      " #   Column                   Non-Null Count  Dtype  \n",
      "---  ------                   --------------  -----  \n",
      " 0   UDI                      10000 non-null  int64  \n",
      " 1   Product ID               10000 non-null  object \n",
      " 2   Type                     10000 non-null  object \n",
      " 3   Air temperature [K]      10000 non-null  float64\n",
      " 4   Process temperature [K]  10000 non-null  float64\n",
      " 5   Rotational speed [rpm]   10000 non-null  int64  \n",
      " 6   Torque [Nm]              10000 non-null  float64\n",
      " 7   Tool wear [min]          10000 non-null  int64  \n",
      " 8   Target                   10000 non-null  int64  \n",
      " 9   Failure Type             10000 non-null  object \n",
      "dtypes: float64(3), int64(4), object(3)\n",
      "memory usage: 781.4+ KB\n"
     ]
    }
   ],
   "source": [
    "df.info()"
   ]
  },
  {
   "cell_type": "code",
   "execution_count": 9,
   "id": "433bdc0d",
   "metadata": {
    "execution": {
     "iopub.execute_input": "2024-10-10T22:57:42.981559Z",
     "iopub.status.busy": "2024-10-10T22:57:42.981233Z",
     "iopub.status.idle": "2024-10-10T22:57:43.011029Z",
     "shell.execute_reply": "2024-10-10T22:57:43.010081Z"
    },
    "papermill": {
     "duration": 0.040984,
     "end_time": "2024-10-10T22:57:43.012964",
     "exception": false,
     "start_time": "2024-10-10T22:57:42.971980",
     "status": "completed"
    },
    "tags": []
   },
   "outputs": [
    {
     "data": {
      "text/html": [
       "<div>\n",
       "<style scoped>\n",
       "    .dataframe tbody tr th:only-of-type {\n",
       "        vertical-align: middle;\n",
       "    }\n",
       "\n",
       "    .dataframe tbody tr th {\n",
       "        vertical-align: top;\n",
       "    }\n",
       "\n",
       "    .dataframe thead th {\n",
       "        text-align: right;\n",
       "    }\n",
       "</style>\n",
       "<table border=\"1\" class=\"dataframe\">\n",
       "  <thead>\n",
       "    <tr style=\"text-align: right;\">\n",
       "      <th></th>\n",
       "      <th>UDI</th>\n",
       "      <th>Air temperature [K]</th>\n",
       "      <th>Process temperature [K]</th>\n",
       "      <th>Rotational speed [rpm]</th>\n",
       "      <th>Torque [Nm]</th>\n",
       "      <th>Tool wear [min]</th>\n",
       "      <th>Target</th>\n",
       "    </tr>\n",
       "  </thead>\n",
       "  <tbody>\n",
       "    <tr>\n",
       "      <th>count</th>\n",
       "      <td>10000.00000</td>\n",
       "      <td>10000.000000</td>\n",
       "      <td>10000.000000</td>\n",
       "      <td>10000.000000</td>\n",
       "      <td>10000.000000</td>\n",
       "      <td>10000.000000</td>\n",
       "      <td>10000.000000</td>\n",
       "    </tr>\n",
       "    <tr>\n",
       "      <th>mean</th>\n",
       "      <td>5000.50000</td>\n",
       "      <td>300.004930</td>\n",
       "      <td>310.005560</td>\n",
       "      <td>1538.776100</td>\n",
       "      <td>39.986910</td>\n",
       "      <td>107.951000</td>\n",
       "      <td>0.033900</td>\n",
       "    </tr>\n",
       "    <tr>\n",
       "      <th>std</th>\n",
       "      <td>2886.89568</td>\n",
       "      <td>2.000259</td>\n",
       "      <td>1.483734</td>\n",
       "      <td>179.284096</td>\n",
       "      <td>9.968934</td>\n",
       "      <td>63.654147</td>\n",
       "      <td>0.180981</td>\n",
       "    </tr>\n",
       "    <tr>\n",
       "      <th>min</th>\n",
       "      <td>1.00000</td>\n",
       "      <td>295.300000</td>\n",
       "      <td>305.700000</td>\n",
       "      <td>1168.000000</td>\n",
       "      <td>3.800000</td>\n",
       "      <td>0.000000</td>\n",
       "      <td>0.000000</td>\n",
       "    </tr>\n",
       "    <tr>\n",
       "      <th>25%</th>\n",
       "      <td>2500.75000</td>\n",
       "      <td>298.300000</td>\n",
       "      <td>308.800000</td>\n",
       "      <td>1423.000000</td>\n",
       "      <td>33.200000</td>\n",
       "      <td>53.000000</td>\n",
       "      <td>0.000000</td>\n",
       "    </tr>\n",
       "    <tr>\n",
       "      <th>50%</th>\n",
       "      <td>5000.50000</td>\n",
       "      <td>300.100000</td>\n",
       "      <td>310.100000</td>\n",
       "      <td>1503.000000</td>\n",
       "      <td>40.100000</td>\n",
       "      <td>108.000000</td>\n",
       "      <td>0.000000</td>\n",
       "    </tr>\n",
       "    <tr>\n",
       "      <th>75%</th>\n",
       "      <td>7500.25000</td>\n",
       "      <td>301.500000</td>\n",
       "      <td>311.100000</td>\n",
       "      <td>1612.000000</td>\n",
       "      <td>46.800000</td>\n",
       "      <td>162.000000</td>\n",
       "      <td>0.000000</td>\n",
       "    </tr>\n",
       "    <tr>\n",
       "      <th>max</th>\n",
       "      <td>10000.00000</td>\n",
       "      <td>304.500000</td>\n",
       "      <td>313.800000</td>\n",
       "      <td>2886.000000</td>\n",
       "      <td>76.600000</td>\n",
       "      <td>253.000000</td>\n",
       "      <td>1.000000</td>\n",
       "    </tr>\n",
       "  </tbody>\n",
       "</table>\n",
       "</div>"
      ],
      "text/plain": [
       "               UDI  Air temperature [K]  Process temperature [K]  \\\n",
       "count  10000.00000         10000.000000             10000.000000   \n",
       "mean    5000.50000           300.004930               310.005560   \n",
       "std     2886.89568             2.000259                 1.483734   \n",
       "min        1.00000           295.300000               305.700000   \n",
       "25%     2500.75000           298.300000               308.800000   \n",
       "50%     5000.50000           300.100000               310.100000   \n",
       "75%     7500.25000           301.500000               311.100000   \n",
       "max    10000.00000           304.500000               313.800000   \n",
       "\n",
       "       Rotational speed [rpm]   Torque [Nm]  Tool wear [min]        Target  \n",
       "count            10000.000000  10000.000000     10000.000000  10000.000000  \n",
       "mean              1538.776100     39.986910       107.951000      0.033900  \n",
       "std                179.284096      9.968934        63.654147      0.180981  \n",
       "min               1168.000000      3.800000         0.000000      0.000000  \n",
       "25%               1423.000000     33.200000        53.000000      0.000000  \n",
       "50%               1503.000000     40.100000       108.000000      0.000000  \n",
       "75%               1612.000000     46.800000       162.000000      0.000000  \n",
       "max               2886.000000     76.600000       253.000000      1.000000  "
      ]
     },
     "execution_count": 9,
     "metadata": {},
     "output_type": "execute_result"
    }
   ],
   "source": [
    "df.describe()"
   ]
  },
  {
   "cell_type": "code",
   "execution_count": 10,
   "id": "0cadc601",
   "metadata": {
    "execution": {
     "iopub.execute_input": "2024-10-10T22:57:43.032168Z",
     "iopub.status.busy": "2024-10-10T22:57:43.031370Z",
     "iopub.status.idle": "2024-10-10T22:57:43.041826Z",
     "shell.execute_reply": "2024-10-10T22:57:43.040987Z"
    },
    "papermill": {
     "duration": 0.021834,
     "end_time": "2024-10-10T22:57:43.043707",
     "exception": false,
     "start_time": "2024-10-10T22:57:43.021873",
     "status": "completed"
    },
    "tags": []
   },
   "outputs": [
    {
     "data": {
      "text/plain": [
       "UDI                        0\n",
       "Product ID                 0\n",
       "Type                       0\n",
       "Air temperature [K]        0\n",
       "Process temperature [K]    0\n",
       "Rotational speed [rpm]     0\n",
       "Torque [Nm]                0\n",
       "Tool wear [min]            0\n",
       "Target                     0\n",
       "Failure Type               0\n",
       "dtype: int64"
      ]
     },
     "execution_count": 10,
     "metadata": {},
     "output_type": "execute_result"
    }
   ],
   "source": [
    "df.isnull().sum()"
   ]
  },
  {
   "cell_type": "code",
   "execution_count": 11,
   "id": "e6f7b7c4",
   "metadata": {
    "execution": {
     "iopub.execute_input": "2024-10-10T22:57:43.062887Z",
     "iopub.status.busy": "2024-10-10T22:57:43.062595Z",
     "iopub.status.idle": "2024-10-10T22:57:43.083152Z",
     "shell.execute_reply": "2024-10-10T22:57:43.082297Z"
    },
    "papermill": {
     "duration": 0.032428,
     "end_time": "2024-10-10T22:57:43.085101",
     "exception": false,
     "start_time": "2024-10-10T22:57:43.052673",
     "status": "completed"
    },
    "tags": []
   },
   "outputs": [
    {
     "data": {
      "text/html": [
       "<div>\n",
       "<style scoped>\n",
       "    .dataframe tbody tr th:only-of-type {\n",
       "        vertical-align: middle;\n",
       "    }\n",
       "\n",
       "    .dataframe tbody tr th {\n",
       "        vertical-align: top;\n",
       "    }\n",
       "\n",
       "    .dataframe thead th {\n",
       "        text-align: right;\n",
       "    }\n",
       "</style>\n",
       "<table border=\"1\" class=\"dataframe\">\n",
       "  <thead>\n",
       "    <tr style=\"text-align: right;\">\n",
       "      <th></th>\n",
       "      <th>UDI</th>\n",
       "      <th>Product ID</th>\n",
       "      <th>Type</th>\n",
       "      <th>Air temperature [K]</th>\n",
       "      <th>Process temperature [K]</th>\n",
       "      <th>Rotational speed [rpm]</th>\n",
       "      <th>Torque [Nm]</th>\n",
       "      <th>Tool wear [min]</th>\n",
       "      <th>Target</th>\n",
       "      <th>Failure Type</th>\n",
       "    </tr>\n",
       "  </thead>\n",
       "  <tbody>\n",
       "    <tr>\n",
       "      <th>50</th>\n",
       "      <td>51</td>\n",
       "      <td>L47230</td>\n",
       "      <td>L</td>\n",
       "      <td>298.9</td>\n",
       "      <td>309.1</td>\n",
       "      <td>2861</td>\n",
       "      <td>4.6</td>\n",
       "      <td>143</td>\n",
       "      <td>1</td>\n",
       "      <td>Power Failure</td>\n",
       "    </tr>\n",
       "    <tr>\n",
       "      <th>69</th>\n",
       "      <td>70</td>\n",
       "      <td>L47249</td>\n",
       "      <td>L</td>\n",
       "      <td>298.9</td>\n",
       "      <td>309.0</td>\n",
       "      <td>1410</td>\n",
       "      <td>65.7</td>\n",
       "      <td>191</td>\n",
       "      <td>1</td>\n",
       "      <td>Power Failure</td>\n",
       "    </tr>\n",
       "    <tr>\n",
       "      <th>77</th>\n",
       "      <td>78</td>\n",
       "      <td>L47257</td>\n",
       "      <td>L</td>\n",
       "      <td>298.8</td>\n",
       "      <td>308.9</td>\n",
       "      <td>1455</td>\n",
       "      <td>41.3</td>\n",
       "      <td>208</td>\n",
       "      <td>1</td>\n",
       "      <td>Tool Wear Failure</td>\n",
       "    </tr>\n",
       "    <tr>\n",
       "      <th>160</th>\n",
       "      <td>161</td>\n",
       "      <td>L47340</td>\n",
       "      <td>L</td>\n",
       "      <td>298.4</td>\n",
       "      <td>308.2</td>\n",
       "      <td>1282</td>\n",
       "      <td>60.7</td>\n",
       "      <td>216</td>\n",
       "      <td>1</td>\n",
       "      <td>Overstrain Failure</td>\n",
       "    </tr>\n",
       "    <tr>\n",
       "      <th>161</th>\n",
       "      <td>162</td>\n",
       "      <td>L47341</td>\n",
       "      <td>L</td>\n",
       "      <td>298.3</td>\n",
       "      <td>308.1</td>\n",
       "      <td>1412</td>\n",
       "      <td>52.3</td>\n",
       "      <td>218</td>\n",
       "      <td>1</td>\n",
       "      <td>Overstrain Failure</td>\n",
       "    </tr>\n",
       "    <tr>\n",
       "      <th>...</th>\n",
       "      <td>...</td>\n",
       "      <td>...</td>\n",
       "      <td>...</td>\n",
       "      <td>...</td>\n",
       "      <td>...</td>\n",
       "      <td>...</td>\n",
       "      <td>...</td>\n",
       "      <td>...</td>\n",
       "      <td>...</td>\n",
       "      <td>...</td>\n",
       "    </tr>\n",
       "    <tr>\n",
       "      <th>9758</th>\n",
       "      <td>9759</td>\n",
       "      <td>L56938</td>\n",
       "      <td>L</td>\n",
       "      <td>298.6</td>\n",
       "      <td>309.8</td>\n",
       "      <td>2271</td>\n",
       "      <td>16.2</td>\n",
       "      <td>218</td>\n",
       "      <td>1</td>\n",
       "      <td>Tool Wear Failure</td>\n",
       "    </tr>\n",
       "    <tr>\n",
       "      <th>9764</th>\n",
       "      <td>9765</td>\n",
       "      <td>L56944</td>\n",
       "      <td>L</td>\n",
       "      <td>298.5</td>\n",
       "      <td>309.5</td>\n",
       "      <td>1294</td>\n",
       "      <td>66.7</td>\n",
       "      <td>12</td>\n",
       "      <td>1</td>\n",
       "      <td>Power Failure</td>\n",
       "    </tr>\n",
       "    <tr>\n",
       "      <th>9822</th>\n",
       "      <td>9823</td>\n",
       "      <td>L57002</td>\n",
       "      <td>L</td>\n",
       "      <td>298.5</td>\n",
       "      <td>309.4</td>\n",
       "      <td>1360</td>\n",
       "      <td>60.9</td>\n",
       "      <td>187</td>\n",
       "      <td>1</td>\n",
       "      <td>Overstrain Failure</td>\n",
       "    </tr>\n",
       "    <tr>\n",
       "      <th>9830</th>\n",
       "      <td>9831</td>\n",
       "      <td>L57010</td>\n",
       "      <td>L</td>\n",
       "      <td>298.3</td>\n",
       "      <td>309.3</td>\n",
       "      <td>1337</td>\n",
       "      <td>56.1</td>\n",
       "      <td>206</td>\n",
       "      <td>1</td>\n",
       "      <td>Overstrain Failure</td>\n",
       "    </tr>\n",
       "    <tr>\n",
       "      <th>9974</th>\n",
       "      <td>9975</td>\n",
       "      <td>L57154</td>\n",
       "      <td>L</td>\n",
       "      <td>298.6</td>\n",
       "      <td>308.2</td>\n",
       "      <td>1361</td>\n",
       "      <td>68.2</td>\n",
       "      <td>172</td>\n",
       "      <td>1</td>\n",
       "      <td>Power Failure</td>\n",
       "    </tr>\n",
       "  </tbody>\n",
       "</table>\n",
       "<p>339 rows × 10 columns</p>\n",
       "</div>"
      ],
      "text/plain": [
       "       UDI Product ID Type  Air temperature [K]  Process temperature [K]  \\\n",
       "50      51     L47230    L                298.9                    309.1   \n",
       "69      70     L47249    L                298.9                    309.0   \n",
       "77      78     L47257    L                298.8                    308.9   \n",
       "160    161     L47340    L                298.4                    308.2   \n",
       "161    162     L47341    L                298.3                    308.1   \n",
       "...    ...        ...  ...                  ...                      ...   \n",
       "9758  9759     L56938    L                298.6                    309.8   \n",
       "9764  9765     L56944    L                298.5                    309.5   \n",
       "9822  9823     L57002    L                298.5                    309.4   \n",
       "9830  9831     L57010    L                298.3                    309.3   \n",
       "9974  9975     L57154    L                298.6                    308.2   \n",
       "\n",
       "      Rotational speed [rpm]  Torque [Nm]  Tool wear [min]  Target  \\\n",
       "50                      2861          4.6              143       1   \n",
       "69                      1410         65.7              191       1   \n",
       "77                      1455         41.3              208       1   \n",
       "160                     1282         60.7              216       1   \n",
       "161                     1412         52.3              218       1   \n",
       "...                      ...          ...              ...     ...   \n",
       "9758                    2271         16.2              218       1   \n",
       "9764                    1294         66.7               12       1   \n",
       "9822                    1360         60.9              187       1   \n",
       "9830                    1337         56.1              206       1   \n",
       "9974                    1361         68.2              172       1   \n",
       "\n",
       "            Failure Type  \n",
       "50         Power Failure  \n",
       "69         Power Failure  \n",
       "77     Tool Wear Failure  \n",
       "160   Overstrain Failure  \n",
       "161   Overstrain Failure  \n",
       "...                  ...  \n",
       "9758   Tool Wear Failure  \n",
       "9764       Power Failure  \n",
       "9822  Overstrain Failure  \n",
       "9830  Overstrain Failure  \n",
       "9974       Power Failure  \n",
       "\n",
       "[339 rows x 10 columns]"
      ]
     },
     "execution_count": 11,
     "metadata": {},
     "output_type": "execute_result"
    }
   ],
   "source": [
    "df[df['Target']==1]"
   ]
  },
  {
   "cell_type": "code",
   "execution_count": 12,
   "id": "47dd4a39",
   "metadata": {
    "execution": {
     "iopub.execute_input": "2024-10-10T22:57:43.104762Z",
     "iopub.status.busy": "2024-10-10T22:57:43.104430Z",
     "iopub.status.idle": "2024-10-10T22:57:43.545300Z",
     "shell.execute_reply": "2024-10-10T22:57:43.544351Z"
    },
    "papermill": {
     "duration": 0.453082,
     "end_time": "2024-10-10T22:57:43.547489",
     "exception": false,
     "start_time": "2024-10-10T22:57:43.094407",
     "status": "completed"
    },
    "tags": []
   },
   "outputs": [
    {
     "data": {
      "text/html": [
       "<div>\n",
       "<style scoped>\n",
       "    .dataframe tbody tr th:only-of-type {\n",
       "        vertical-align: middle;\n",
       "    }\n",
       "\n",
       "    .dataframe tbody tr th {\n",
       "        vertical-align: top;\n",
       "    }\n",
       "\n",
       "    .dataframe thead th {\n",
       "        text-align: right;\n",
       "    }\n",
       "</style>\n",
       "<table border=\"1\" class=\"dataframe\">\n",
       "  <thead>\n",
       "    <tr style=\"text-align: right;\">\n",
       "      <th></th>\n",
       "      <th>Type</th>\n",
       "      <th>Air temperature [K]</th>\n",
       "      <th>Process temperature [K]</th>\n",
       "      <th>Rotational speed [rpm]</th>\n",
       "      <th>Torque [Nm]</th>\n",
       "      <th>Tool wear [min]</th>\n",
       "    </tr>\n",
       "  </thead>\n",
       "  <tbody>\n",
       "    <tr>\n",
       "      <th>9254</th>\n",
       "      <td>L</td>\n",
       "      <td>298.3</td>\n",
       "      <td>309.1</td>\n",
       "      <td>1616</td>\n",
       "      <td>31.1</td>\n",
       "      <td>195</td>\n",
       "    </tr>\n",
       "    <tr>\n",
       "      <th>1561</th>\n",
       "      <td>L</td>\n",
       "      <td>298.2</td>\n",
       "      <td>308.4</td>\n",
       "      <td>1388</td>\n",
       "      <td>53.8</td>\n",
       "      <td>137</td>\n",
       "    </tr>\n",
       "    <tr>\n",
       "      <th>1670</th>\n",
       "      <td>L</td>\n",
       "      <td>298.2</td>\n",
       "      <td>307.8</td>\n",
       "      <td>1528</td>\n",
       "      <td>31.1</td>\n",
       "      <td>194</td>\n",
       "    </tr>\n",
       "    <tr>\n",
       "      <th>6087</th>\n",
       "      <td>M</td>\n",
       "      <td>300.9</td>\n",
       "      <td>310.8</td>\n",
       "      <td>1599</td>\n",
       "      <td>33.0</td>\n",
       "      <td>7</td>\n",
       "    </tr>\n",
       "    <tr>\n",
       "      <th>6669</th>\n",
       "      <td>L</td>\n",
       "      <td>301.4</td>\n",
       "      <td>310.5</td>\n",
       "      <td>1571</td>\n",
       "      <td>33.9</td>\n",
       "      <td>208</td>\n",
       "    </tr>\n",
       "  </tbody>\n",
       "</table>\n",
       "</div>"
      ],
      "text/plain": [
       "     Type  Air temperature [K]  Process temperature [K]  \\\n",
       "9254    L                298.3                    309.1   \n",
       "1561    L                298.2                    308.4   \n",
       "1670    L                298.2                    307.8   \n",
       "6087    M                300.9                    310.8   \n",
       "6669    L                301.4                    310.5   \n",
       "\n",
       "      Rotational speed [rpm]  Torque [Nm]  Tool wear [min]  \n",
       "9254                    1616         31.1              195  \n",
       "1561                    1388         53.8              137  \n",
       "1670                    1528         31.1              194  \n",
       "6087                    1599         33.0                7  \n",
       "6669                    1571         33.9              208  "
      ]
     },
     "execution_count": 12,
     "metadata": {},
     "output_type": "execute_result"
    }
   ],
   "source": [
    "X = df.iloc[:,2:8]\n",
    "y = df.iloc[:,-1]\n",
    "\n",
    "from sklearn.model_selection import train_test_split\n",
    "X_train,X_test,y_train,y_test = train_test_split(X,y,test_size = 0.2,random_state = 42)\n",
    "y_train.shape\n",
    "X_train.head()"
   ]
  },
  {
   "cell_type": "code",
   "execution_count": 13,
   "id": "1ae75602",
   "metadata": {
    "execution": {
     "iopub.execute_input": "2024-10-10T22:57:43.568351Z",
     "iopub.status.busy": "2024-10-10T22:57:43.568026Z",
     "iopub.status.idle": "2024-10-10T22:57:43.580322Z",
     "shell.execute_reply": "2024-10-10T22:57:43.579510Z"
    },
    "papermill": {
     "duration": 0.024828,
     "end_time": "2024-10-10T22:57:43.582226",
     "exception": false,
     "start_time": "2024-10-10T22:57:43.557398",
     "status": "completed"
    },
    "tags": []
   },
   "outputs": [],
   "source": [
    "from sklearn.preprocessing import OrdinalEncoder\n",
    "oe = OrdinalEncoder(categories=[['L', 'M', 'H']])\n",
    "oe.fit(X_train[['Type']])\n",
    "X_train['Type'] = oe.transform(X_train[['Type']]).astype(int)\n",
    "X_test['Type'] = oe.transform(X_test[['Type']]).astype(int)"
   ]
  },
  {
   "cell_type": "code",
   "execution_count": 14,
   "id": "e2c1622c",
   "metadata": {
    "execution": {
     "iopub.execute_input": "2024-10-10T22:57:43.603090Z",
     "iopub.status.busy": "2024-10-10T22:57:43.602819Z",
     "iopub.status.idle": "2024-10-10T22:57:43.614217Z",
     "shell.execute_reply": "2024-10-10T22:57:43.613500Z"
    },
    "papermill": {
     "duration": 0.023891,
     "end_time": "2024-10-10T22:57:43.616351",
     "exception": false,
     "start_time": "2024-10-10T22:57:43.592460",
     "status": "completed"
    },
    "tags": []
   },
   "outputs": [
    {
     "data": {
      "text/html": [
       "<div>\n",
       "<style scoped>\n",
       "    .dataframe tbody tr th:only-of-type {\n",
       "        vertical-align: middle;\n",
       "    }\n",
       "\n",
       "    .dataframe tbody tr th {\n",
       "        vertical-align: top;\n",
       "    }\n",
       "\n",
       "    .dataframe thead th {\n",
       "        text-align: right;\n",
       "    }\n",
       "</style>\n",
       "<table border=\"1\" class=\"dataframe\">\n",
       "  <thead>\n",
       "    <tr style=\"text-align: right;\">\n",
       "      <th></th>\n",
       "      <th>Type</th>\n",
       "      <th>Air temperature [K]</th>\n",
       "      <th>Process temperature [K]</th>\n",
       "      <th>Rotational speed [rpm]</th>\n",
       "      <th>Torque [Nm]</th>\n",
       "      <th>Tool wear [min]</th>\n",
       "    </tr>\n",
       "  </thead>\n",
       "  <tbody>\n",
       "    <tr>\n",
       "      <th>9254</th>\n",
       "      <td>0</td>\n",
       "      <td>298.3</td>\n",
       "      <td>309.1</td>\n",
       "      <td>1616</td>\n",
       "      <td>31.1</td>\n",
       "      <td>195</td>\n",
       "    </tr>\n",
       "    <tr>\n",
       "      <th>1561</th>\n",
       "      <td>0</td>\n",
       "      <td>298.2</td>\n",
       "      <td>308.4</td>\n",
       "      <td>1388</td>\n",
       "      <td>53.8</td>\n",
       "      <td>137</td>\n",
       "    </tr>\n",
       "    <tr>\n",
       "      <th>1670</th>\n",
       "      <td>0</td>\n",
       "      <td>298.2</td>\n",
       "      <td>307.8</td>\n",
       "      <td>1528</td>\n",
       "      <td>31.1</td>\n",
       "      <td>194</td>\n",
       "    </tr>\n",
       "    <tr>\n",
       "      <th>6087</th>\n",
       "      <td>1</td>\n",
       "      <td>300.9</td>\n",
       "      <td>310.8</td>\n",
       "      <td>1599</td>\n",
       "      <td>33.0</td>\n",
       "      <td>7</td>\n",
       "    </tr>\n",
       "    <tr>\n",
       "      <th>6669</th>\n",
       "      <td>0</td>\n",
       "      <td>301.4</td>\n",
       "      <td>310.5</td>\n",
       "      <td>1571</td>\n",
       "      <td>33.9</td>\n",
       "      <td>208</td>\n",
       "    </tr>\n",
       "  </tbody>\n",
       "</table>\n",
       "</div>"
      ],
      "text/plain": [
       "      Type  Air temperature [K]  Process temperature [K]  \\\n",
       "9254     0                298.3                    309.1   \n",
       "1561     0                298.2                    308.4   \n",
       "1670     0                298.2                    307.8   \n",
       "6087     1                300.9                    310.8   \n",
       "6669     0                301.4                    310.5   \n",
       "\n",
       "      Rotational speed [rpm]  Torque [Nm]  Tool wear [min]  \n",
       "9254                    1616         31.1              195  \n",
       "1561                    1388         53.8              137  \n",
       "1670                    1528         31.1              194  \n",
       "6087                    1599         33.0                7  \n",
       "6669                    1571         33.9              208  "
      ]
     },
     "execution_count": 14,
     "metadata": {},
     "output_type": "execute_result"
    }
   ],
   "source": [
    "X_train.head()"
   ]
  },
  {
   "cell_type": "code",
   "execution_count": 15,
   "id": "9ad6d86d",
   "metadata": {
    "execution": {
     "iopub.execute_input": "2024-10-10T22:57:43.637129Z",
     "iopub.status.busy": "2024-10-10T22:57:43.636864Z",
     "iopub.status.idle": "2024-10-10T22:57:43.648612Z",
     "shell.execute_reply": "2024-10-10T22:57:43.647899Z"
    },
    "papermill": {
     "duration": 0.024092,
     "end_time": "2024-10-10T22:57:43.650372",
     "exception": false,
     "start_time": "2024-10-10T22:57:43.626280",
     "status": "completed"
    },
    "tags": []
   },
   "outputs": [],
   "source": [
    "from sklearn.preprocessing import LabelEncoder\n",
    "categories = ['No Failure', 'Heat Dissipation Failure', 'Power Failure', 'Overstrain Failure', 'Tool Wear Failure', 'Random Failures']\n",
    "custom_encoder = {cat: i for i, cat in enumerate(categories)}\n",
    "y_train_encoded = [custom_encoder.get(cat, len(categories)) for cat in y_train]\n",
    "y_test_encoded = [custom_encoder.get(cat, len(categories)) for cat in y_test]\n",
    "le = LabelEncoder()\n",
    "le.fit(list(custom_encoder.values()))\n",
    "y_train = le.transform(y_train_encoded)\n",
    "y_test = le.transform(y_test_encoded)\n"
   ]
  },
  {
   "cell_type": "code",
   "execution_count": 16,
   "id": "1c862a45",
   "metadata": {
    "execution": {
     "iopub.execute_input": "2024-10-10T22:57:43.671717Z",
     "iopub.status.busy": "2024-10-10T22:57:43.670774Z",
     "iopub.status.idle": "2024-10-10T22:57:52.959156Z",
     "shell.execute_reply": "2024-10-10T22:57:52.958188Z"
    },
    "papermill": {
     "duration": 9.302405,
     "end_time": "2024-10-10T22:57:52.962562",
     "exception": false,
     "start_time": "2024-10-10T22:57:43.660157",
     "status": "completed"
    },
    "tags": []
   },
   "outputs": [
    {
     "name": "stdout",
     "output_type": "stream",
     "text": [
      "Training Accuracy    : 98.22 %\n",
      "Model Accuracy Score : 97.75 %\n",
      "\u001b[1m--------------------------------------------------------\u001b[0m\n",
      "Classification_Report: \n",
      "               precision    recall  f1-score   support\n",
      "\n",
      "           0       0.98      1.00      0.99      1935\n",
      "           1       0.57      0.27      0.36        15\n",
      "           2       0.83      0.75      0.79        20\n",
      "           3       0.80      0.62      0.70        13\n",
      "           4       0.00      0.00      0.00        11\n",
      "           5       0.00      0.00      0.00         6\n",
      "\n",
      "    accuracy                           0.98      2000\n",
      "   macro avg       0.53      0.44      0.47      2000\n",
      "weighted avg       0.97      0.98      0.97      2000\n",
      "\n",
      "\u001b[1m--------------------------------------------------------\u001b[0m\n"
     ]
    },
    {
     "name": "stderr",
     "output_type": "stream",
     "text": [
      "/opt/conda/lib/python3.10/site-packages/sklearn/metrics/_classification.py:1344: UndefinedMetricWarning: Precision and F-score are ill-defined and being set to 0.0 in labels with no predicted samples. Use `zero_division` parameter to control this behavior.\n",
      "  _warn_prf(average, modifier, msg_start, len(result))\n",
      "/opt/conda/lib/python3.10/site-packages/sklearn/metrics/_classification.py:1344: UndefinedMetricWarning: Precision and F-score are ill-defined and being set to 0.0 in labels with no predicted samples. Use `zero_division` parameter to control this behavior.\n",
      "  _warn_prf(average, modifier, msg_start, len(result))\n",
      "/opt/conda/lib/python3.10/site-packages/sklearn/metrics/_classification.py:1344: UndefinedMetricWarning: Precision and F-score are ill-defined and being set to 0.0 in labels with no predicted samples. Use `zero_division` parameter to control this behavior.\n",
      "  _warn_prf(average, modifier, msg_start, len(result))\n"
     ]
    }
   ],
   "source": [
    "from sklearn.linear_model import LogisticRegression\n",
    "from sklearn.metrics import accuracy_score,classification_report,confusion_matrix\n",
    "\n",
    "clf = LogisticRegression(solver='lbfgs', max_iter=10000)\n",
    "clf.fit(X_train, y_train)\n",
    "\n",
    "# Predict the labels of the test set\n",
    "y_pred = clf.predict(X_test)\n",
    "\n",
    "log_train = round(clf.score(X_train, y_train) * 100, 2)\n",
    "log_accuracy = round(accuracy_score(y_pred, y_test) * 100, 2)\n",
    "\n",
    "\n",
    "print(\"Training Accuracy    :\",log_train ,\"%\")\n",
    "print(\"Model Accuracy Score :\",log_accuracy ,\"%\")\n",
    "print(\"\\033[1m--------------------------------------------------------\\033[0m\")\n",
    "print(\"Classification_Report: \\n\",classification_report(y_test,y_pred))\n",
    "print(\"\\033[1m--------------------------------------------------------\\033[0m\")"
   ]
  },
  {
   "cell_type": "code",
   "execution_count": 17,
   "id": "ecaad507",
   "metadata": {
    "execution": {
     "iopub.execute_input": "2024-10-10T22:57:52.985187Z",
     "iopub.status.busy": "2024-10-10T22:57:52.984595Z",
     "iopub.status.idle": "2024-10-10T22:57:53.172785Z",
     "shell.execute_reply": "2024-10-10T22:57:53.171460Z"
    },
    "papermill": {
     "duration": 0.20143,
     "end_time": "2024-10-10T22:57:53.175046",
     "exception": false,
     "start_time": "2024-10-10T22:57:52.973616",
     "status": "completed"
    },
    "tags": []
   },
   "outputs": [
    {
     "name": "stdout",
     "output_type": "stream",
     "text": [
      "Training Accuracy    : 100.0 %\n",
      "Model Accuracy Score : 97.4 %\n",
      "\u001b[1m--------------------------------------------------------\u001b[0m\n",
      "Classification_Report: \n",
      "               precision    recall  f1-score   support\n",
      "\n",
      "           0       0.99      0.99      0.99      1935\n",
      "           1       0.76      0.87      0.81        15\n",
      "           2       0.74      0.85      0.79        20\n",
      "           3       0.57      0.62      0.59        13\n",
      "           4       0.10      0.09      0.10        11\n",
      "           5       0.00      0.00      0.00         6\n",
      "\n",
      "    accuracy                           0.97      2000\n",
      "   macro avg       0.53      0.57      0.55      2000\n",
      "weighted avg       0.97      0.97      0.97      2000\n",
      "\n",
      "\u001b[1m--------------------------------------------------------\u001b[0m\n"
     ]
    }
   ],
   "source": [
    "# Decision Tree\n",
    "from sklearn.tree import DecisionTreeClassifier\n",
    "decision = DecisionTreeClassifier()\n",
    "decision.fit(X_train, y_train)\n",
    "y_pred_dec = decision.predict(X_test)\n",
    "\n",
    "decision_train = round(decision.score(X_train, y_train) * 100, 2)\n",
    "decision_accuracy = round(accuracy_score(y_pred_dec, y_test) * 100, 2)\n",
    "\n",
    "print(\"Training Accuracy    :\",decision_train ,\"%\")\n",
    "print(\"Model Accuracy Score :\",decision_accuracy ,\"%\")\n",
    "print(\"\\033[1m--------------------------------------------------------\\033[0m\")\n",
    "print(\"Classification_Report: \\n\",classification_report(y_test,y_pred_dec))\n",
    "print(\"\\033[1m--------------------------------------------------------\\033[0m\")"
   ]
  },
  {
   "cell_type": "code",
   "execution_count": 18,
   "id": "043281d3",
   "metadata": {
    "execution": {
     "iopub.execute_input": "2024-10-10T22:57:53.197762Z",
     "iopub.status.busy": "2024-10-10T22:57:53.197377Z",
     "iopub.status.idle": "2024-10-10T22:57:54.511856Z",
     "shell.execute_reply": "2024-10-10T22:57:54.510748Z"
    },
    "papermill": {
     "duration": 1.328896,
     "end_time": "2024-10-10T22:57:54.514856",
     "exception": false,
     "start_time": "2024-10-10T22:57:53.185960",
     "status": "completed"
    },
    "tags": []
   },
   "outputs": [
    {
     "name": "stdout",
     "output_type": "stream",
     "text": [
      "Training Accuracy    : 100.0 %\n",
      "Model Accuracy Score : 98.15 %\n",
      "\u001b[1m--------------------------------------------------------\u001b[0m\n",
      "Classification_Report: \n",
      "               precision    recall  f1-score   support\n",
      "\n",
      "           0       0.98      1.00      0.99      1935\n",
      "           1       0.91      0.67      0.77        15\n",
      "           2       0.83      0.75      0.79        20\n",
      "           3       0.80      0.62      0.70        13\n",
      "           4       0.00      0.00      0.00        11\n",
      "           5       0.00      0.00      0.00         6\n",
      "\n",
      "    accuracy                           0.98      2000\n",
      "   macro avg       0.59      0.50      0.54      2000\n",
      "weighted avg       0.97      0.98      0.98      2000\n",
      "\n",
      "\u001b[1m--------------------------------------------------------\u001b[0m\n"
     ]
    },
    {
     "name": "stderr",
     "output_type": "stream",
     "text": [
      "/opt/conda/lib/python3.10/site-packages/sklearn/metrics/_classification.py:1344: UndefinedMetricWarning: Precision and F-score are ill-defined and being set to 0.0 in labels with no predicted samples. Use `zero_division` parameter to control this behavior.\n",
      "  _warn_prf(average, modifier, msg_start, len(result))\n",
      "/opt/conda/lib/python3.10/site-packages/sklearn/metrics/_classification.py:1344: UndefinedMetricWarning: Precision and F-score are ill-defined and being set to 0.0 in labels with no predicted samples. Use `zero_division` parameter to control this behavior.\n",
      "  _warn_prf(average, modifier, msg_start, len(result))\n",
      "/opt/conda/lib/python3.10/site-packages/sklearn/metrics/_classification.py:1344: UndefinedMetricWarning: Precision and F-score are ill-defined and being set to 0.0 in labels with no predicted samples. Use `zero_division` parameter to control this behavior.\n",
      "  _warn_prf(average, modifier, msg_start, len(result))\n"
     ]
    }
   ],
   "source": [
    "# Random Forest\n",
    "from sklearn.ensemble import RandomForestClassifier\n",
    "random_forest = RandomForestClassifier(n_estimators=100)\n",
    "random_forest.fit(X_train, y_train)\n",
    "y_pred_rf = random_forest.predict(X_test)\n",
    "random_forest.score(X_train, y_train)\n",
    "\n",
    "random_forest_train = round(random_forest.score(X_train, y_train) * 100, 2)\n",
    "random_forest_accuracy = round(accuracy_score(y_pred_rf, y_test) * 100, 2)\n",
    "\n",
    "print(\"Training Accuracy    :\",random_forest_train ,\"%\")\n",
    "print(\"Model Accuracy Score :\",random_forest_accuracy ,\"%\")\n",
    "print(\"\\033[1m--------------------------------------------------------\\033[0m\")\n",
    "print(\"Classification_Report: \\n\",classification_report(y_test,y_pred_rf))\n",
    "print(\"\\033[1m--------------------------------------------------------\\033[0m\")"
   ]
  },
  {
   "cell_type": "code",
   "execution_count": 19,
   "id": "e2737519",
   "metadata": {
    "execution": {
     "iopub.execute_input": "2024-10-10T22:57:54.538255Z",
     "iopub.status.busy": "2024-10-10T22:57:54.537871Z",
     "iopub.status.idle": "2024-10-10T22:57:55.053057Z",
     "shell.execute_reply": "2024-10-10T22:57:55.051961Z"
    },
    "papermill": {
     "duration": 0.530407,
     "end_time": "2024-10-10T22:57:55.056012",
     "exception": false,
     "start_time": "2024-10-10T22:57:54.525605",
     "status": "completed"
    },
    "tags": []
   },
   "outputs": [
    {
     "name": "stdout",
     "output_type": "stream",
     "text": [
      "Training Accuracy    : 96.58 %\n",
      "Model Accuracy Score : 96.85 %\n",
      "\u001b[1m--------------------------------------------------------\u001b[0m\n",
      "Classification_Report: \n",
      "               precision    recall  f1-score   support\n",
      "\n",
      "           0       0.97      1.00      0.98      1935\n",
      "           1       0.00      0.00      0.00        15\n",
      "           2       0.75      0.15      0.25        20\n",
      "           3       0.00      0.00      0.00        13\n",
      "           4       0.00      0.00      0.00        11\n",
      "           5       0.00      0.00      0.00         6\n",
      "\n",
      "    accuracy                           0.97      2000\n",
      "   macro avg       0.29      0.19      0.21      2000\n",
      "weighted avg       0.94      0.97      0.95      2000\n",
      "\n",
      "\u001b[1m--------------------------------------------------------\u001b[0m\n"
     ]
    },
    {
     "name": "stderr",
     "output_type": "stream",
     "text": [
      "/opt/conda/lib/python3.10/site-packages/sklearn/metrics/_classification.py:1344: UndefinedMetricWarning: Precision and F-score are ill-defined and being set to 0.0 in labels with no predicted samples. Use `zero_division` parameter to control this behavior.\n",
      "  _warn_prf(average, modifier, msg_start, len(result))\n",
      "/opt/conda/lib/python3.10/site-packages/sklearn/metrics/_classification.py:1344: UndefinedMetricWarning: Precision and F-score are ill-defined and being set to 0.0 in labels with no predicted samples. Use `zero_division` parameter to control this behavior.\n",
      "  _warn_prf(average, modifier, msg_start, len(result))\n",
      "/opt/conda/lib/python3.10/site-packages/sklearn/metrics/_classification.py:1344: UndefinedMetricWarning: Precision and F-score are ill-defined and being set to 0.0 in labels with no predicted samples. Use `zero_division` parameter to control this behavior.\n",
      "  _warn_prf(average, modifier, msg_start, len(result))\n"
     ]
    }
   ],
   "source": [
    "# Support Vector Machines\n",
    "from sklearn.svm import SVC\n",
    "svc = SVC()\n",
    "svc.fit(X_train, y_train)\n",
    "y_pred_svc = svc.predict(X_test)\n",
    "\n",
    "svc_train = round(svc.score(X_train, y_train) * 100, 2)\n",
    "svc_accuracy = round(accuracy_score(y_pred_svc, y_test) * 100, 2)\n",
    "\n",
    "print(\"Training Accuracy    :\",svc_train ,\"%\")\n",
    "print(\"Model Accuracy Score :\",svc_accuracy ,\"%\")\n",
    "print(\"\\033[1m--------------------------------------------------------\\033[0m\")\n",
    "print(\"Classification_Report: \\n\",classification_report(y_test,y_pred_svc))\n",
    "print(\"\\033[1m--------------------------------------------------------\\033[0m\")"
   ]
  },
  {
   "cell_type": "code",
   "execution_count": 20,
   "id": "d2493642",
   "metadata": {
    "execution": {
     "iopub.execute_input": "2024-10-10T22:57:55.079741Z",
     "iopub.status.busy": "2024-10-10T22:57:55.079384Z",
     "iopub.status.idle": "2024-10-10T22:57:55.093044Z",
     "shell.execute_reply": "2024-10-10T22:57:55.092341Z"
    },
    "papermill": {
     "duration": 0.02732,
     "end_time": "2024-10-10T22:57:55.094987",
     "exception": false,
     "start_time": "2024-10-10T22:57:55.067667",
     "status": "completed"
    },
    "tags": []
   },
   "outputs": [],
   "source": [
    "##### saving mode files \n",
    "import pickle\n",
    "pickle.dump(random_forest,open('model2.pkl','wb'))"
   ]
  },
  {
   "cell_type": "code",
   "execution_count": 21,
   "id": "2206e513",
   "metadata": {
    "execution": {
     "iopub.execute_input": "2024-10-10T22:57:55.117006Z",
     "iopub.status.busy": "2024-10-10T22:57:55.116707Z",
     "iopub.status.idle": "2024-10-10T22:57:55.193479Z",
     "shell.execute_reply": "2024-10-10T22:57:55.192570Z"
    },
    "papermill": {
     "duration": 0.090274,
     "end_time": "2024-10-10T22:57:55.195599",
     "exception": false,
     "start_time": "2024-10-10T22:57:55.105325",
     "status": "completed"
    },
    "tags": []
   },
   "outputs": [
    {
     "data": {
      "text/plain": [
       "['model2.joblib']"
      ]
     },
     "execution_count": 21,
     "metadata": {},
     "output_type": "execute_result"
    }
   ],
   "source": [
    "import joblib\n",
    "\n",
    "# Assuming you have 'random_forest' as your trained model\n",
    "joblib.dump(random_forest, 'model2.joblib')"
   ]
  },
  {
   "cell_type": "code",
   "execution_count": 22,
   "id": "eacae827",
   "metadata": {
    "execution": {
     "iopub.execute_input": "2024-10-10T22:57:55.218469Z",
     "iopub.status.busy": "2024-10-10T22:57:55.218101Z",
     "iopub.status.idle": "2024-10-10T22:57:55.222343Z",
     "shell.execute_reply": "2024-10-10T22:57:55.221487Z"
    },
    "papermill": {
     "duration": 0.017778,
     "end_time": "2024-10-10T22:57:55.224250",
     "exception": false,
     "start_time": "2024-10-10T22:57:55.206472",
     "status": "completed"
    },
    "tags": []
   },
   "outputs": [],
   "source": [
    "import joblib"
   ]
  },
  {
   "cell_type": "code",
   "execution_count": 23,
   "id": "1d716f7b",
   "metadata": {
    "execution": {
     "iopub.execute_input": "2024-10-10T22:57:55.246607Z",
     "iopub.status.busy": "2024-10-10T22:57:55.246018Z",
     "iopub.status.idle": "2024-10-10T22:57:55.299588Z",
     "shell.execute_reply": "2024-10-10T22:57:55.298849Z"
    },
    "papermill": {
     "duration": 0.067051,
     "end_time": "2024-10-10T22:57:55.301715",
     "exception": false,
     "start_time": "2024-10-10T22:57:55.234664",
     "status": "completed"
    },
    "tags": []
   },
   "outputs": [],
   "source": [
    "model = joblib.load('/kaggle/working/model2.joblib')"
   ]
  },
  {
   "cell_type": "code",
   "execution_count": 24,
   "id": "1680bef0",
   "metadata": {
    "execution": {
     "iopub.execute_input": "2024-10-10T22:57:55.324196Z",
     "iopub.status.busy": "2024-10-10T22:57:55.323872Z",
     "iopub.status.idle": "2024-10-10T22:57:55.338070Z",
     "shell.execute_reply": "2024-10-10T22:57:55.337151Z"
    },
    "papermill": {
     "duration": 0.02777,
     "end_time": "2024-10-10T22:57:55.340052",
     "exception": false,
     "start_time": "2024-10-10T22:57:55.312282",
     "status": "completed"
    },
    "tags": []
   },
   "outputs": [
    {
     "name": "stdout",
     "output_type": "stream",
     "text": [
      "{'Power Failure'}\n"
     ]
    }
   ],
   "source": [
    "data = pd.DataFrame([[0, 298.9, 309.1, 2861, 4.6, 143]],\n",
    "                    columns=['Type', 'Air temperature [K]', 'Process temperature [K]', \n",
    "                             'Rotational speed [rpm]', 'Torque [Nm]', 'Tool wear [min]'])\n",
    "prediction = model.predict(data)\n",
    "\n",
    "value = {i for i in custom_encoder if custom_encoder[i] == prediction}\n",
    "print(value)\n",
    "## failue causing categories  - categories = ['No Failure', 'Heat Dissipation Failure', \n",
    "#                           'Power Failure', 'Overstrain Failure', 'Tool Wear Failure', 'Random Failures']"
   ]
  },
  {
   "cell_type": "code",
   "execution_count": 25,
   "id": "75221b04",
   "metadata": {
    "execution": {
     "iopub.execute_input": "2024-10-10T22:57:55.362171Z",
     "iopub.status.busy": "2024-10-10T22:57:55.361892Z",
     "iopub.status.idle": "2024-10-10T22:57:55.366485Z",
     "shell.execute_reply": "2024-10-10T22:57:55.365664Z"
    },
    "papermill": {
     "duration": 0.018026,
     "end_time": "2024-10-10T22:57:55.368624",
     "exception": false,
     "start_time": "2024-10-10T22:57:55.350598",
     "status": "completed"
    },
    "tags": []
   },
   "outputs": [
    {
     "name": "stdout",
     "output_type": "stream",
     "text": [
      "{'Power Failure'}\n"
     ]
    }
   ],
   "source": [
    "custom_encoder.keys()\n",
    "value = {i for i in custom_encoder if custom_encoder[i] == prediction}\n",
    "print(value)"
   ]
  },
  {
   "cell_type": "code",
   "execution_count": 26,
   "id": "4a73d81b",
   "metadata": {
    "execution": {
     "iopub.execute_input": "2024-10-10T22:57:55.391123Z",
     "iopub.status.busy": "2024-10-10T22:57:55.390833Z",
     "iopub.status.idle": "2024-10-10T22:57:55.395316Z",
     "shell.execute_reply": "2024-10-10T22:57:55.394414Z"
    },
    "papermill": {
     "duration": 0.017839,
     "end_time": "2024-10-10T22:57:55.397299",
     "exception": false,
     "start_time": "2024-10-10T22:57:55.379460",
     "status": "completed"
    },
    "tags": []
   },
   "outputs": [
    {
     "name": "stdout",
     "output_type": "stream",
     "text": [
      "1.2.2\n"
     ]
    }
   ],
   "source": [
    "import sklearn\n",
    "print(sklearn.__version__)"
   ]
  },
  {
   "cell_type": "code",
   "execution_count": 27,
   "id": "9d9b5e5f",
   "metadata": {
    "execution": {
     "iopub.execute_input": "2024-10-10T22:57:55.419769Z",
     "iopub.status.busy": "2024-10-10T22:57:55.419471Z",
     "iopub.status.idle": "2024-10-10T22:57:55.425006Z",
     "shell.execute_reply": "2024-10-10T22:57:55.424132Z"
    },
    "papermill": {
     "duration": 0.019062,
     "end_time": "2024-10-10T22:57:55.427022",
     "exception": false,
     "start_time": "2024-10-10T22:57:55.407960",
     "status": "completed"
    },
    "tags": []
   },
   "outputs": [],
   "source": [
    "categories = ['No Failure', 'Heat Dissipation Failure', 'Power Failure', 'Overstrain Failure', 'Tool Wear Failure', 'Random Failures']\n",
    "custom_encoder = {cat: i for i, cat in enumerate(categories)}"
   ]
  },
  {
   "cell_type": "code",
   "execution_count": null,
   "id": "b3198575",
   "metadata": {
    "papermill": {
     "duration": 0.010382,
     "end_time": "2024-10-10T22:57:55.448702",
     "exception": false,
     "start_time": "2024-10-10T22:57:55.438320",
     "status": "completed"
    },
    "tags": []
   },
   "outputs": [],
   "source": []
  },
  {
   "cell_type": "code",
   "execution_count": null,
   "id": "b348b78b",
   "metadata": {
    "papermill": {
     "duration": 0.010815,
     "end_time": "2024-10-10T22:57:55.470014",
     "exception": false,
     "start_time": "2024-10-10T22:57:55.459199",
     "status": "completed"
    },
    "tags": []
   },
   "outputs": [],
   "source": []
  }
 ],
 "metadata": {
  "kaggle": {
   "accelerator": "gpu",
   "dataSources": [
    {
     "datasetId": 1697740,
     "sourceId": 2781015,
     "sourceType": "datasetVersion"
    }
   ],
   "dockerImageVersionId": 30762,
   "isGpuEnabled": true,
   "isInternetEnabled": true,
   "language": "python",
   "sourceType": "notebook"
  },
  "kernelspec": {
   "display_name": "Python 3",
   "language": "python",
   "name": "python3"
  },
  "language_info": {
   "codemirror_mode": {
    "name": "ipython",
    "version": 3
   },
   "file_extension": ".py",
   "mimetype": "text/x-python",
   "name": "python",
   "nbconvert_exporter": "python",
   "pygments_lexer": "ipython3",
   "version": "3.10.14"
  },
  "papermill": {
   "default_parameters": {},
   "duration": 20.415592,
   "end_time": "2024-10-10T22:57:55.999268",
   "environment_variables": {},
   "exception": null,
   "input_path": "__notebook__.ipynb",
   "output_path": "__notebook__.ipynb",
   "parameters": {},
   "start_time": "2024-10-10T22:57:35.583676",
   "version": "2.6.0"
  }
 },
 "nbformat": 4,
 "nbformat_minor": 5
}
