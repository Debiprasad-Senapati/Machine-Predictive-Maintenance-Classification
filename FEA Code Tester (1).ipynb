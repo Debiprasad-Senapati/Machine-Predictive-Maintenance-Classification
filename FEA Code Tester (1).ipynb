{
 "cells": [
  {
   "cell_type": "code",
   "execution_count": 1,
   "id": "9f24bc3c",
   "metadata": {},
   "outputs": [],
   "source": [
    "import numpy as np"
   ]
  },
  {
   "cell_type": "code",
   "execution_count": 2,
   "id": "a30a6bd8",
   "metadata": {},
   "outputs": [],
   "source": [
    "import matplotlib.pyplot as plt"
   ]
  },
  {
   "cell_type": "markdown",
   "id": "b0b598e4",
   "metadata": {},
   "source": [
    "# Preprocessing"
   ]
  },
  {
   "cell_type": "code",
   "execution_count": 3,
   "id": "0e2e5a73",
   "metadata": {},
   "outputs": [],
   "source": [
    "#------------\n",
    "# nn = number of nodes\n",
    "# ne = number of elements\n",
    "# nmat = number of materials used\n",
    "# p_type = problem type\n",
    "# nlbc = number of load bounder conditions\n",
    "# ndbc = number of displacement boundary conditions\n",
    "# t = thickness\n",
    "# dofpn = degree of freedom per node\n",
    "# nnpe = number of nodes per element\n",
    "# tdof = total degree of freedom\n",
    "#------------\n",
    "\n",
    "nn,ne,nmat,p_type,nlbc,ndbc=np.loadtxt('P.txt').astype(np.int32)\n",
    "t=0.5\n",
    "dofpn=2\n",
    "nnpe=3\n",
    "tdof=nn*dofpn"
   ]
  },
  {
   "cell_type": "markdown",
   "id": "3dfe6372",
   "metadata": {},
   "source": []
  },
  {
   "cell_type": "markdown",
   "id": "7815776f",
   "metadata": {},
   "source": [
    "Convertion of Physical Problem into FEM Quantities"
   ]
  },
  {
   "cell_type": "markdown",
   "id": "5238d98f",
   "metadata": {},
   "source": []
  },
  {
   "cell_type": "code",
   "execution_count": 4,
   "id": "becb4707",
   "metadata": {},
   "outputs": [],
   "source": [
    "coord=np.loadtxt('coord.txt').astype(np.float32)"
   ]
  },
  {
   "cell_type": "code",
   "execution_count": 5,
   "id": "f93d353e",
   "metadata": {},
   "outputs": [],
   "source": [
    "nca=np.loadtxt('nca.txt').astype(np.int32)"
   ]
  },
  {
   "cell_type": "code",
   "execution_count": 6,
   "id": "5f60ea2f",
   "metadata": {},
   "outputs": [],
   "source": [
    "mat=np.loadtxt('mat.txt').astype(np.float32)"
   ]
  },
  {
   "cell_type": "code",
   "execution_count": 7,
   "id": "0fda93d5",
   "metadata": {},
   "outputs": [],
   "source": [
    "load_bc=np.loadtxt('load_bc.txt').astype(np.float32)"
   ]
  },
  {
   "cell_type": "code",
   "execution_count": 8,
   "id": "f2d6c364",
   "metadata": {},
   "outputs": [],
   "source": [
    "disp_bc=np.loadtxt('disp_bc.txt').astype(np.float32)"
   ]
  },
  {
   "cell_type": "markdown",
   "id": "da2b649e",
   "metadata": {},
   "source": []
  },
  {
   "cell_type": "markdown",
   "id": "b4bd1bc1",
   "metadata": {},
   "source": [
    "# Verification"
   ]
  },
  {
   "cell_type": "code",
   "execution_count": 9,
   "id": "062a61cc",
   "metadata": {},
   "outputs": [
    {
     "data": {
      "image/png": "[encoded data removed]",
      "text/plain": [
       "<Figure size 640x480 with 1 Axes>"
      ]
     },
     "metadata": {},
     "output_type": "display_data"
    }
   ],
   "source": [
    "for elem in range(1,ne+1,1):\n",
    "    \n",
    "    #----Extraction of Nodes-----\n",
    "    \n",
    "    N1=nca[elem,1]\n",
    "    N2=nca[elem,2]\n",
    "    N3=nca[elem,3]\n",
    "    \n",
    "    #----Extraction of Nodal Co-ordinates----\n",
    "    \n",
    "    X1N1=coord[N1,1]\n",
    "    X2N1=coord[N1,2]\n",
    "    X1N2=coord[N2,1]\n",
    "    X2N2=coord[N2,2]\n",
    "    X1N3=coord[N3,1]\n",
    "    X2N3=coord[N3,2]\n",
    "    \n",
    "    #-----Extraction of Material Type of Element----\n",
    "    \n",
    "    Mat_num=nca[elem,4]\n",
    "    \n",
    "    #-----Plotting the model of given problem----\n",
    "    \n",
    "    X=[X1N1,X1N2,X1N3]\n",
    "    Y=[X2N1,X2N2,X2N3]\n",
    "    CGX=(X1N1+X1N2+X1N3)/3\n",
    "    CGY=(X2N1+X2N2+X2N3)/3\n",
    "    if Mat_num==1:\n",
    "        plt.fill(X,Y,'y')\n",
    "    else:\n",
    "        plt.fill(X,Y,'b')\n",
    "    plt.scatter(X,Y,c='black')\n",
    "    plt.text(CGX,CGY,str(elem))"
   ]
  },
  {
   "cell_type": "markdown",
   "id": "e0337581",
   "metadata": {},
   "source": [
    "# Solution"
   ]
  },
  {
   "cell_type": "code",
   "execution_count": 10,
   "id": "b08e3616",
   "metadata": {},
   "outputs": [],
   "source": [
    "#---Initialization------\n",
    "# GSTIFF = Global Stiffness Matrix\n",
    "# F = Global Force Vector\n",
    "#-------------------------\n",
    "\n",
    "GSTIFF=np.zeros((tdof,tdof))\n",
    "F=np.zeros(tdof)"
   ]
  },
  {
   "cell_type": "code",
   "execution_count": 11,
   "id": "d1533a2a",
   "metadata": {},
   "outputs": [],
   "source": [
    "#--------Construction of Global Stiffness Matrix--------\n",
    "\n",
    "for elem in range(1,ne+1,1):\n",
    "    \n",
    "    #----Extraction of Nodes-----\n",
    "    \n",
    "    N1=nca[elem,1]\n",
    "    N2=nca[elem,2]\n",
    "    N3=nca[elem,3]\n",
    "    \n",
    "    #----Extraction of Nodal Co-ordinates----\n",
    "    \n",
    "    X1N1=coord[N1,1]\n",
    "    X2N1=coord[N1,2]\n",
    "    X1N2=coord[N2,1]\n",
    "    X2N2=coord[N2,2]\n",
    "    X1N3=coord[N3,1]\n",
    "    X2N3=coord[N3,2]\n",
    "    \n",
    "    #-------Construction of B Matrix-----\n",
    "    \n",
    "    two_delta=np.linalg.det(np.array([[1,X1N1,X2N1],[1,X1N2,X2N2],[1,X1N3,X2N3]]))\n",
    "    B1=X2N2-X2N3\n",
    "    B2=X2N3-X2N1\n",
    "    B3=X2N1-X2N2\n",
    "    G1=X1N3-X1N2\n",
    "    G2=X1N1-X1N3\n",
    "    G3=X1N2-X1N1\n",
    "    B=np.zeros((3,6))\n",
    "    B[0,0]=B1\n",
    "    B[0,2]=B2\n",
    "    B[0,4]=B3\n",
    "    B[1,1]=G1\n",
    "    B[1,3]=G2\n",
    "    B[1,5]=G3\n",
    "    B[2,0]=G1\n",
    "    B[2,1]=B1\n",
    "    B[2,2]=G2\n",
    "    B[2,3]=B2\n",
    "    B[2,4]=G3\n",
    "    B[2,5]=B3\n",
    "    B=B/two_delta\n",
    "    \n",
    "    #---Construction of D Matrix------\n",
    "    \n",
    "    mat_num=nca[elem,4]\n",
    "    E=mat[mat_num,1]\n",
    "    PR=mat[mat_num,2]\n",
    "    CONST=E/(1-PR**2)\n",
    "    D=np.zeros((3,3))\n",
    "    D[0,0]=1\n",
    "    D[0,1]=PR\n",
    "    D[0,2]=0\n",
    "    D[1,0]=PR\n",
    "    D[1,1]=1\n",
    "    D[1,2]=0\n",
    "    D[2,0]=0\n",
    "    D[2,1]=0\n",
    "    D[2,2]=(1-PR)/2\n",
    "    D=D*CONST\n",
    "    \n",
    "    #-----Construction of Element Stiffness Matrix--------\n",
    "    \n",
    "    ESTIFF=B.transpose()@D@B*t*two_delta*0.5\n",
    "    \n",
    "    #-----Construction of Global Stiffness Matrix------\n",
    "    \n",
    "    CN=[2*N1-2,2*N1-1,2*N2-2,2*N2-1,2*N3-2,2*N3-1]\n",
    "    CN_IDX=np.array(6*CN).reshape(6,6)\n",
    "    RN_IDX=CN_IDX.transpose()\n",
    "    GSTIFF[RN_IDX,CN_IDX]=GSTIFF[RN_IDX,CN_IDX]+ESTIFF"
   ]
  },
  {
   "cell_type": "code",
   "execution_count": 12,
   "id": "94c1445d",
   "metadata": {},
   "outputs": [],
   "source": [
    "#-------Construction of Global Force Vector-----\n",
    "\n",
    "for i in range (1,nlbc+1,1):\n",
    "    load_type=load_bc[i,2]\n",
    "    if load_type==1:\n",
    "        N=int(load_bc[i,1])\n",
    "        F[(2*N-2)]=F[(2*N-2)]+load_bc[i,3]\n",
    "    elif load_type==2:\n",
    "        N=int(load_bc[i,1])\n",
    "        F[(2*N-1)]=F[(2*N-1)]+load_bc[i,4]\n",
    "    else:\n",
    "        N=int(load_bc[i,1])\n",
    "        F[(2*N-2)]=F[(2*N-2)]+load_bc[i,3]\n",
    "        F[(2*N-1)]=F[(2*N-1)]+load_bc[i,4]"
   ]
  },
  {
   "cell_type": "code",
   "execution_count": 13,
   "id": "a3bf879f",
   "metadata": {},
   "outputs": [],
   "source": [
    "GSTIFFCOPY=GSTIFF.copy()"
   ]
  },
  {
   "cell_type": "code",
   "execution_count": 14,
   "id": "3a9b3341",
   "metadata": {},
   "outputs": [],
   "source": [
    "#---Modifying Global Stiffness Matrix using Penalty Method------\n",
    "\n",
    "for i in range (1,ndbc+1,1):\n",
    "    disp_type=disp_bc[i,2]\n",
    "    if disp_type==1:\n",
    "        N=int(disp_bc[i,1])\n",
    "        F[(2*N-2)]=F[(2*N-2)]+(disp_bc[i,3]*10**16)\n",
    "        GSTIFFCOPY[2*N-2,2*N-2]=GSTIFFCOPY[2*N-2,2*N-2]+10**16\n",
    "    elif disp_type==2:\n",
    "        N=int(disp_bc[i,1])\n",
    "        F[(2*N-1)]=F[(2*N-1)]+(disp_bc[i,4]*10**16)\n",
    "        GSTIFFCOPY[2*N-1,2*N-1]=GSTIFFCOPY[2*N-1,2*N-1]+10**16\n",
    "    else:\n",
    "        N=int(disp_bc[i,1])\n",
    "        F[(2*N-2)]=F[(2*N-2)]+(disp_bc[i,3]*10**16)\n",
    "        GSTIFFCOPY[2*N-2,2*N-2]=GSTIFFCOPY[2*N-2,2*N-2]+10**16\n",
    "        F[(2*N-1)]=F[(2*N-1)]+(disp_bc[i,4]*10**16)\n",
    "        GSTIFFCOPY[2*N-1,2*N-1]=GSTIFFCOPY[2*N-1,2*N-1]+10**16"
   ]
  },
  {
   "cell_type": "code",
   "execution_count": 15,
   "id": "82e8fe3f",
   "metadata": {
    "scrolled": true
   },
   "outputs": [
    {
     "name": "stdout",
     "output_type": "stream",
     "text": [
      "[[-7.27519248e-14  1.50000000e-13]\n",
      " [ 7.27519248e-14 -3.00000000e-13]\n",
      " [-2.56521146e-08  1.85395430e-08]\n",
      " [-3.17626208e-08 -3.17493009e-08]\n",
      " [-2.81564306e-08 -1.54938479e-07]\n",
      " [-1.10945515e-07  2.58361595e-08]\n",
      " [-1.18242131e-07 -3.75673908e-08]\n",
      " [-1.27299209e-07 -1.57881402e-07]]\n"
     ]
    }
   ],
   "source": [
    "#-----Solving [K][u]=[F]------\n",
    "\n",
    "DISP=np.linalg.solve(GSTIFFCOPY,F)\n",
    "print(DISP.reshape(-1,2))"
   ]
  },
  {
   "cell_type": "markdown",
   "id": "a5fbdf03",
   "metadata": {},
   "source": [
    "# Post Processing"
   ]
  },
  {
   "cell_type": "code",
   "execution_count": 16,
   "id": "e852d5af",
   "metadata": {},
   "outputs": [],
   "source": [
    "#-----Initialization------\n",
    "\n",
    "strain=np.empty(shape=(3,0))\n",
    "stress=np.empty(shape=(3,0))"
   ]
  },
  {
   "cell_type": "code",
   "execution_count": 20,
   "id": "548a1e2b",
   "metadata": {},
   "outputs": [
    {
     "name": "stdout",
     "output_type": "stream",
     "text": [
      "[[ 0.  0.  1.  0. -1.  0.]\n",
      " [ 0. -1.  0.  0.  0.  1.]\n",
      " [-1.  0.  0.  1.  1. -1.]]\n",
      "b\n",
      "[[2.08333329e+11 4.16666665e+10 0.00000000e+00]\n",
      " [4.16666665e+10 2.08333329e+11 0.00000000e+00]\n",
      " [0.00000000e+00 0.00000000e+00 8.33333314e+10]]\n",
      "b\n",
      "[[-2.56521146e-08]\n",
      " [ 1.85395430e-08]\n",
      " [ 7.27519248e-14]\n",
      " [-3.00000000e-13]\n",
      " [-7.27519248e-14]\n",
      " [ 1.50000000e-13]]\n",
      "b\n",
      "[[ 1.  0.  0.  0. -1.  0.]\n",
      " [ 0. -1.  0.  1.  0.  0.]\n",
      " [-1.  1.  1.  0.  0. -1.]]\n",
      "b\n",
      "[[3.29670317e+11 9.89010989e+10 0.00000000e+00]\n",
      " [9.89010989e+10 3.29670317e+11 0.00000000e+00]\n",
      " [0.00000000e+00 0.00000000e+00 1.15384609e+11]]\n",
      "b\n",
      "[[-3.17626208e-08]\n",
      " [-3.17493009e-08]\n",
      " [ 7.27519248e-14]\n",
      " [-3.00000000e-13]\n",
      " [-2.56521146e-08]\n",
      " [ 1.85395430e-08]]\n",
      "b\n",
      "[[ 1.  0.  0.  0. -1.  0.]\n",
      " [ 0.  0.  0.  1.  0. -1.]\n",
      " [ 0.  1.  1.  0. -1. -1.]]\n",
      "b\n",
      "[[2.08333329e+11 4.16666665e+10 0.00000000e+00]\n",
      " [4.16666665e+10 2.08333329e+11 0.00000000e+00]\n",
      " [0.00000000e+00 0.00000000e+00 8.33333314e+10]]\n",
      "b\n",
      "[[-1.18242131e-07]\n",
      " [-3.75673908e-08]\n",
      " [-2.56521146e-08]\n",
      " [ 1.85395430e-08]\n",
      " [-1.10945515e-07]\n",
      " [ 2.58361595e-08]]\n",
      "b\n",
      "[[ 0.  0.  1.  0. -1.  0.]\n",
      " [ 0. -1.  0.  1.  0.  0.]\n",
      " [-1.  0.  1.  1.  0. -1.]]\n",
      "b\n",
      "[[3.29670317e+11 9.89010989e+10 0.00000000e+00]\n",
      " [9.89010989e+10 3.29670317e+11 0.00000000e+00]\n",
      " [0.00000000e+00 0.00000000e+00 1.15384609e+11]]\n",
      "b\n",
      "[[-1.18242131e-07]\n",
      " [-3.75673908e-08]\n",
      " [-3.17626208e-08]\n",
      " [-3.17493009e-08]\n",
      " [-2.56521146e-08]\n",
      " [ 1.85395430e-08]]\n",
      "b\n",
      "[[-1.  0.  0.  0.  1.  0.]\n",
      " [ 0.  1.  0. -1.  0.  0.]\n",
      " [ 1. -1. -1.  0.  0.  1.]]\n",
      "b\n",
      "[[3.29670317e+11 9.89010989e+10 0.00000000e+00]\n",
      " [9.89010989e+10 3.29670317e+11 0.00000000e+00]\n",
      " [0.00000000e+00 0.00000000e+00 1.15384609e+11]]\n",
      "b\n",
      "[[-3.17626208e-08]\n",
      " [-3.17493009e-08]\n",
      " [-1.18242131e-07]\n",
      " [-3.75673908e-08]\n",
      " [-2.81564306e-08]\n",
      " [-1.54938479e-07]]\n",
      "b\n",
      "[[-1.  0.  1.  0.  0.  0.]\n",
      " [ 0.  0.  0. -1.  0.  1.]\n",
      " [ 0. -1. -1.  1.  1.  0.]]\n",
      "b\n",
      "[[2.08333329e+11 4.16666665e+10 0.00000000e+00]\n",
      " [4.16666665e+10 2.08333329e+11 0.00000000e+00]\n",
      " [0.00000000e+00 0.00000000e+00 8.33333314e+10]]\n",
      "b\n",
      "[[-1.18242131e-07]\n",
      " [-3.75673908e-08]\n",
      " [-1.27299209e-07]\n",
      " [-1.57881402e-07]\n",
      " [-2.81564306e-08]\n",
      " [-1.54938479e-07]]\n",
      "b\n"
     ]
    }
   ],
   "source": [
    "#----Calculation of Stress and Strain------\n",
    "\n",
    "for elem in range(1,ne+1,1):\n",
    "    \n",
    "    #----Extraction of Nodes-----\n",
    "    \n",
    "    N1=nca[elem,1]\n",
    "    N2=nca[elem,2]\n",
    "    N3=nca[elem,3]\n",
    "    \n",
    "    #----Extraction of Nodal Co-ordinates----\n",
    "    \n",
    "    X1N1=coord[N1,1]\n",
    "    X2N1=coord[N1,2]\n",
    "    X1N2=coord[N2,1]\n",
    "    X2N2=coord[N2,2]\n",
    "    X1N3=coord[N3,1]\n",
    "    X2N3=coord[N3,2]\n",
    "    \n",
    "    #-------Construction of B Matrix-----\n",
    "    \n",
    "    two_delta=np.linalg.det(np.array([[1,X1N1,X2N1],[1,X1N2,X2N2],[1,X1N3,X2N3]]))\n",
    "    B1=X2N2-X2N3\n",
    "    B2=X2N3-X2N1\n",
    "    B3=X2N1-X2N2\n",
    "    G1=X1N3-X1N2\n",
    "    G2=X1N1-X1N3\n",
    "    G3=X1N2-X1N1\n",
    "    B=np.zeros((3,6))\n",
    "    B[0,0]=B1\n",
    "    B[0,2]=B2\n",
    "    B[0,4]=B3\n",
    "    B[1,1]=G1\n",
    "    B[1,3]=G2\n",
    "    B[1,5]=G3\n",
    "    B[2,0]=G1\n",
    "    B[2,1]=B1\n",
    "    B[2,2]=G2\n",
    "    B[2,3]=B2\n",
    "    B[2,4]=G3\n",
    "    B[2,5]=B3\n",
    "    B=B/two_delta\n",
    "    print(B)\n",
    "    print('b')\n",
    "    #---Construction of D Matrix------\n",
    "    \n",
    "    mat_num=nca[elem,4]\n",
    "    E=mat[mat_num,1]\n",
    "    PR=mat[mat_num,2]\n",
    "    CONST=E/(1-PR**2)\n",
    "    D=np.zeros((3,3))\n",
    "    D[0,0]=1\n",
    "    D[0,1]=PR\n",
    "    D[0,2]=0\n",
    "    D[1,0]=PR\n",
    "    D[1,1]=1\n",
    "    D[1,2]=0\n",
    "    D[2,0]=0\n",
    "    D[2,1]=0\n",
    "    D[2,2]=(1-PR)/2\n",
    "    D=D*CONST\n",
    "    print(D)\n",
    "    print('b')\n",
    "    #-----Calculation of Stress and Strain---------\n",
    "    \n",
    "    u=np.array([DISP[2*N1-2],DISP[2*N1-1],DISP[2*N2-2],DISP[2*N2-1],DISP[2*N3-2],DISP[2*N3-1]]).reshape(6,1)\n",
    "    print(u)\n",
    "    print('b')\n",
    "    strain=np.concatenate([strain,np.array((B@u)).reshape(3,1)],axis=1)\n",
    "    stress=np.concatenate([stress,np.array((D@B@u)).reshape(3,1)],axis=1)"
   ]
  },
  {
   "cell_type": "code",
   "execution_count": 18,
   "id": "a06b3956",
   "metadata": {
    "scrolled": true
   },
   "outputs": [
    {
     "data": {
      "text/plain": [
       "array([[ -772.44439003,  1125.55854886, -1824.15410527, -1439.03704714,\n",
       "         1764.26935147, -1764.26935147],\n",
       "       [-3862.36739645,  9862.36739645, -1824.15410527,  1313.71574948,\n",
       "         2274.70770725,   235.73064853],\n",
       "       [ 2137.63260355, -2137.63260355,  1824.15410527,  4175.84589473,\n",
       "        -4235.73064853, -1764.26935147]])"
      ]
     },
     "execution_count": 18,
     "metadata": {},
     "output_type": "execute_result"
    }
   ],
   "source": []
  }
 ],
 "metadata": {
  "kernelspec": {
   "display_name": "Python 3 (ipykernel)",
   "language": "python",
   "name": "python3"
  },
  "language_info": {
   "codemirror_mode": {
    "name": "ipython",
    "version": 3
   },
   "file_extension": ".py",
   "mimetype": "text/x-python",
   "name": "python",
   "nbconvert_exporter": "python",
   "pygments_lexer": "ipython3",
   "version": "3.9.13"
  }
 },
 "nbformat": 4,
 "nbformat_minor": 5
}
